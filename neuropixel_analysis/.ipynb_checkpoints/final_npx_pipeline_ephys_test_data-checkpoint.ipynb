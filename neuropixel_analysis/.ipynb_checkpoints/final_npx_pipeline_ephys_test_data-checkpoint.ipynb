{
 "cells": [
  {
   "cell_type": "code",
   "execution_count": null,
   "id": "908e6e95-b45a-419a-b695-ed0c7ed33607",
   "metadata": {},
   "outputs": [],
   "source": [
    "%matplotlib inline\n",
    "import matplotlib.pyplot as plt\n",
    "import numpy as np\n",
    "from pprint import pprint\n",
    "from pathlib import Path\n",
    "\n",
    "import spikeinterface.core as si  # import core only\n",
    "# from spikeinterface.core import load_extractor\n",
    "import spikeinterface.extractors as se\n",
    "import spikeinterface.preprocessing as spre\n",
    "import spikeinterface.sorters as ss\n",
    "import spikeinterface.postprocessing as spost\n",
    "import spikeinterface.qualitymetrics as sqm\n",
    "import spikeinterface.comparison as sc\n",
    "import spikeinterface.exporters as sexp\n",
    "import spikeinterface.curation as scur\n",
    "import spikeinterface.widgets as sw\n",
    "\n",
    "from probeinterface.plotting import plot_probe\n",
    "from spikeinterface.sortingcomponents.peak_detection import detect_peaks\n",
    "from spikeinterface.sortingcomponents.peak_localization import localize_peaks"
   ]
  },
  {
   "cell_type": "code",
   "execution_count": null,
   "id": "a332116e-1faa-4707-8a40-31178bb5c484",
   "metadata": {},
   "outputs": [],
   "source": [
    "# set directory path for reading/saving data\n",
    "DATA_DIR = \"E:\\Crick\\ephys_test\""
   ]
  },
  {
   "cell_type": "code",
   "execution_count": null,
   "id": "dc40e31f-26d1-454c-be2f-c93ec918c618",
   "metadata": {},
   "outputs": [],
   "source": [
    "# set global arguments for parallel processing\n",
    "global_job_kwargs = dict(n_jobs=4, chunk_duration=\"1s\")\n",
    "si.set_global_job_kwargs(**global_job_kwargs)"
   ]
  },
  {
   "cell_type": "markdown",
   "id": "6276c114-f795-496e-9845-992cdd3614e7",
   "metadata": {},
   "source": [
    "## 1. Read recording"
   ]
  },
  {
   "cell_type": "code",
   "execution_count": null,
   "id": "e4745013-9ab3-4da1-81a8-9610640e56d4",
   "metadata": {},
   "outputs": [],
   "source": [
    "# # if loading previously preprocessed recording\n",
    "# preprocessed_recording = si.load_extractor(f\"{DATA_DIR}\\{recording_date}\\preprocessed_recording\")\n",
    "# print(preprocessed_recording)"
   ]
  },
  {
   "cell_type": "code",
   "execution_count": null,
   "id": "97b87947-4342-4562-831c-201b86f0182b",
   "metadata": {},
   "outputs": [],
   "source": [
    "# load simulated data \n",
    "data_path = f\"{DATA_DIR}\\Record_Node_104\" # full data path (90GB) --> \"E:\\Crick\\ephys_test\\Record_Node_104\"\n",
    "recording = se.read_openephys(data_path, stream_id=\"1\") # stream_id=0: \"NI-DAQmx-102.PXIe-6341\"; stream_id=1: \"Neuropix-PXI-100.ProbeA\"\n",
    "print('done')"
   ]
  },
  {
   "cell_type": "code",
   "execution_count": null,
   "id": "3e4f9faf-1947-4283-b57a-f8b8b96787d3",
   "metadata": {},
   "outputs": [],
   "source": [
    "print(recording)"
   ]
  },
  {
   "cell_type": "code",
   "execution_count": null,
   "id": "e1bc01d1-d6dd-447f-b64b-472a047b0067",
   "metadata": {},
   "outputs": [],
   "source": [
    "# details about probe (optional)\n",
    "recording.get_probe().to_dataframe()"
   ]
  },
  {
   "cell_type": "code",
   "execution_count": null,
   "id": "eae097bf-b2d6-4bd1-855e-b4b06f05077a",
   "metadata": {},
   "outputs": [],
   "source": [
    "# details about probe (optional)\n",
    "fig, ax = plt.subplots(figsize=(15,10))\n",
    "sw.plot_probe_map(recording, ax=ax, with_channel_ids=True)\n",
    "ax.set_ylim(-100, 100)"
   ]
  },
  {
   "cell_type": "markdown",
   "id": "5eb39543-da8e-4799-9992-b7d45a777c3d",
   "metadata": {},
   "source": [
    "## 2. Preprocessing"
   ]
  },
  {
   "cell_type": "code",
   "execution_count": null,
   "id": "e4b88340-c1f6-4e74-9376-5f5aa5842a80",
   "metadata": {},
   "outputs": [],
   "source": [
    "rec1 = spre.highpass_filter(recording=recording, freq_min=400.)\n",
    "bad_channel_ids, channel_labels = spre.detect_bad_channels(rec1)\n",
    "rec2 = rec1.remove_channels(bad_channel_ids)\n",
    "print('bad_channel_ids: ', bad_channel_ids)\n",
    "\n",
    "rec3 = spre.phase_shift(recording=rec2)\n",
    "rec4 = spre.common_reference(recording=rec3, operator='median', reference='global')\n",
    "preprocessed_recording = rec4\n",
    "preprocessed_recording"
   ]
  },
  {
   "cell_type": "code",
   "execution_count": null,
   "id": "305ce3cf-b3ba-462b-94ce-c1aab3a00f3d",
   "metadata": {},
   "outputs": [],
   "source": [
    "# # plot details about preprocessing steps (optional)\n",
    "# # this method is interactive (a bit laggy), the ones below are static\n",
    "# %matplotlib widget\n",
    "# sw.plot_traces({'filter': rec1, 'cmr': rec4}, backend='ipywidgets')"
   ]
  },
  {
   "cell_type": "code",
   "execution_count": null,
   "id": "51cd2760-43dd-4e31-970c-8cebfb0087a6",
   "metadata": {},
   "outputs": [],
   "source": [
    "# plot details about preprocessing steps (optional)\n",
    "fig, axs = plt.subplots(ncols=3, figsize=(20, 10))\n",
    "sw.plot_traces(rec1, backend='matplotlib', clim=(-50, 50), ax=axs[0])\n",
    "sw.plot_traces(rec4, backend='matplotlib', clim=(-50, 50), ax=axs[1])\n",
    "sw.plot_traces(preprocessed_recording, backend='matplotlib', clim=(-50, 50), ax=axs[2])\n",
    "for i, label in enumerate(('filter', 'cmr', 'final')):\n",
    "    axs[i].set_title(label)"
   ]
  },
  {
   "cell_type": "code",
   "execution_count": null,
   "id": "eb4aa9f4-1076-4d79-9915-2aa56247806d",
   "metadata": {},
   "outputs": [],
   "source": [
    "# plot some channels (optional)\n",
    "fig, ax = plt.subplots(figsize=(20, 10))\n",
    "some_chans = preprocessed_recording.channel_ids[[100, 150, 200, ]]\n",
    "sw.plot_traces({'filter': rec1, 'cmr': rec4}, backend='matplotlib', mode='line', ax=ax, channel_ids=some_chans)"
   ]
  },
  {
   "cell_type": "code",
   "execution_count": null,
   "id": "dd34a05b-a4d7-4805-a402-d40c7af7bf65",
   "metadata": {},
   "outputs": [],
   "source": [
    "# only run if preprocessed recording not already saved\n",
    "job_kwargs = dict(n_jobs=40, chunk_duration='1s', progress_bar=True)\n",
    "preprocessed_recording = preprocessed_recording.save(format=\"binary\", folder=f\"{DATA_DIR}\\{recording_date}_out\\preprocessed_recording\", **job_kwargs)\n",
    "preprocessed_recording"
   ]
  },
  {
   "cell_type": "markdown",
   "id": "c3c5d2bc-d018-4841-9a0a-a997f488e3db",
   "metadata": {},
   "source": [
    "## 3. Check noise level"
   ]
  },
  {
   "cell_type": "code",
   "execution_count": null,
   "id": "b2e4901a-c952-42c6-97c5-8c7838aeaf51",
   "metadata": {},
   "outputs": [],
   "source": [
    "# we can estimate the noise on the scaled traces (microV) or on the raw one (which is in our case int16).\n",
    "noise_levels_microV = si.get_noise_levels(preprocessed_recording, return_scaled=True)\n",
    "noise_levels_int16 = si.get_noise_levels(preprocessed_recording, return_scaled=False)"
   ]
  },
  {
   "cell_type": "code",
   "execution_count": null,
   "id": "88bfd30a-2f74-41ca-93c4-1d269d1e51f3",
   "metadata": {},
   "outputs": [],
   "source": [
    "fig, ax = plt.subplots()\n",
    "_ = ax.hist(noise_levels_microV, bins=np.arange(5, 15, 2.5))\n",
    "ax.set_xlabel('noise  [microV]')"
   ]
  },
  {
   "cell_type": "code",
   "execution_count": null,
   "id": "60cd50be-febb-461b-a042-b5410808db79",
   "metadata": {},
   "outputs": [],
   "source": [
    "fig, ax = plt.subplots()\n",
    "_ = ax.hist(noise_levels_microV, bins=np.arange(5, 30, 2.5))\n",
    "ax.set_xlabel('noise  [microV]')"
   ]
  },
  {
   "cell_type": "markdown",
   "id": "6b1222c1-a83c-4db0-a31c-0e81784a4960",
   "metadata": {},
   "source": [
    "## 4. Detect and localize peaks"
   ]
  },
  {
   "cell_type": "code",
   "execution_count": null,
   "id": "4e8b13d1-ff31-4843-99f2-7998c97e0686",
   "metadata": {},
   "outputs": [],
   "source": [
    "job_kwargs = dict(n_jobs=40, chunk_duration='1s', progress_bar=True)\n",
    "peaks = detect_peaks(preprocessed_recording,  method='locally_exclusive', noise_levels=noise_levels_int16,\n",
    "                     detect_threshold=5, radius_um=50., **job_kwargs)\n",
    "peaks"
   ]
  },
  {
   "cell_type": "code",
   "execution_count": null,
   "id": "37635947-e435-464d-a920-75bf2625ef24",
   "metadata": {},
   "outputs": [],
   "source": [
    "peak_locations = localize_peaks(preprocessed_recording, peaks, method='center_of_mass', radius_um=50., **job_kwargs)"
   ]
  },
  {
   "cell_type": "markdown",
   "id": "59a2cc0a-a0e0-4566-867a-ce3b5583fad1",
   "metadata": {},
   "source": [
    "## 5. Check for drift (optional?)"
   ]
  },
  {
   "cell_type": "code",
   "execution_count": null,
   "id": "bd8dc1ef-5ec5-4340-bbff-a778c4018cba",
   "metadata": {},
   "outputs": [],
   "source": [
    "# check for drifts\n",
    "fs = preprocessed_recording.sampling_frequency\n",
    "fig, ax = plt.subplots(figsize=(10, 8))\n",
    "ax.scatter(peaks['sample_index'] / fs, peak_locations['y'], color='k', marker='.',  alpha=0.002)"
   ]
  },
  {
   "cell_type": "code",
   "execution_count": null,
   "id": "07537f8c-052a-49d9-b2de-c451e9050549",
   "metadata": {},
   "outputs": [],
   "source": [
    "# we can also use the peak location estimates to have an insight of cluster separation before sorting\n",
    "fig, ax = plt.subplots(figsize=(10, 10))\n",
    "sw.plot_probe_map(preprocessed_recording, ax=ax, with_channel_ids=True)\n",
    "ax.set_ylim(-100, 300)\n",
    "\n",
    "ax.scatter(peak_locations['x'], peak_locations['y'], color='purple', alpha=0.002)"
   ]
  },
  {
   "cell_type": "markdown",
   "id": "a70315cb-ffc2-4691-a315-e8740b00b79f",
   "metadata": {},
   "source": [
    "## 6. Run Spike Sorter"
   ]
  },
  {
   "cell_type": "code",
   "execution_count": null,
   "id": "a3dddd24-45ee-48c9-949f-4810c2bf31c0",
   "metadata": {},
   "outputs": [],
   "source": [
    "# check which sorters are implemented/available and which are installed\n",
    "print(\"Available sorters\", ss.available_sorters())\n",
    "print(\"Installed sorters\", ss.installed_sorters())"
   ]
  },
  {
   "cell_type": "code",
   "execution_count": null,
   "id": "7b950e80-42e0-416e-a436-8903d63a87fd",
   "metadata": {},
   "outputs": [],
   "source": [
    "ss.get_default_sorter_params(\"kilosort4\")\n",
    "params_kilosort4 = {'do_correction': False}\n",
    "print(params_kilosort4)"
   ]
  },
  {
   "cell_type": "code",
   "execution_count": null,
   "id": "a465bd37-8a38-4b95-83da-09afb72660f7",
   "metadata": {},
   "outputs": [],
   "source": [
    "# run kilosort4 (specific to neuropixels)\n",
    "sorting_kilo4 = ss.run_sorter(sorter_name=\"kilosort4\", recording=preprocessed_recording, folder=f\"{DATA_DIR}\\{recording_date}_out\\output_kilosort4\", verbose=True, **params_kilosort4)\n",
    "print(sorting_kilo4)"
   ]
  },
  {
   "cell_type": "code",
   "execution_count": null,
   "id": "9c763a76-a82b-4d59-bb63-1fd3538930d4",
   "metadata": {},
   "outputs": [],
   "source": [
    "print(\"Units found by kilo4:\", sorting_kilo4.get_unit_ids())"
   ]
  },
  {
   "cell_type": "markdown",
   "id": "82af48fe-24f3-4f33-b566-ac58935952c6",
   "metadata": {},
   "source": [
    "## 7. Create sorting analyzer + compute postprocessing and metrics"
   ]
  },
  {
   "cell_type": "code",
   "execution_count": null,
   "id": "4335c777-1106-4d2e-922b-802a0a1d4257",
   "metadata": {},
   "outputs": [],
   "source": [
    "# postprocessing --> SortingAnalyzer object = pairing BaseRecording and BaseSorting\n",
    "# SortingAnalyzer can be loaded in memory or saved in a folder\n",
    "# this folder contains waveforms, templates, and other postprocessing data\n",
    "analyzer_kilo4 = si.create_sorting_analyzer(sorting=sorting_kilo4, recording=preprocessed_recording, format='binary_folder', folder=rf\"{DATA_DIR}\\{recording_date}_out\\analyzer_kilo4_binary\")"
   ]
  },
  {
   "cell_type": "code",
   "execution_count": null,
   "id": "cb4fa331-5c1c-4b74-94bd-80d7f1bfa32d",
   "metadata": {},
   "outputs": [],
   "source": [
    "### NEUROPIXEL SPECIFIC -- https://spikeinterface.readthedocs.io/en/latest/how_to/analyze_neuropixels.html"
   ]
  },
  {
   "cell_type": "code",
   "execution_count": null,
   "id": "45f286c7-6fe8-4bb9-92db-4b7e306cadf2",
   "metadata": {},
   "outputs": [],
   "source": [
    "analyzer_kilo4.compute(\"random_spikes\", method=\"uniform\", max_spikes_per_unit=500)\n",
    "analyzer_kilo4.compute(\"waveforms\",  ms_before=1.5,ms_after=2., **job_kwargs)\n",
    "analyzer_kilo4.compute(\"templates\", operators=[\"average\", \"median\", \"std\"])\n",
    "analyzer_kilo4.compute(\"noise_levels\")\n",
    "analyzer_kilo4"
   ]
  },
  {
   "cell_type": "code",
   "execution_count": null,
   "id": "d4ef7373-ed70-4ab6-b34d-7fbece9ffc21",
   "metadata": {},
   "outputs": [],
   "source": [
    "analyzer_kilo4.compute(\"correlograms\")\n",
    "analyzer_kilo4.compute(\"unit_locations\")\n",
    "analyzer_kilo4.compute(\"spike_amplitudes\", **job_kwargs)\n",
    "analyzer_kilo4.compute(\"template_similarity\")\n",
    "analyzer_kilo4"
   ]
  },
  {
   "cell_type": "code",
   "execution_count": null,
   "id": "4b352eae-2339-4782-a9e8-44a5760051b7",
   "metadata": {},
   "outputs": [],
   "source": [
    "# quality metrics\n",
    "metric_names=['firing_rate', 'presence_ratio', 'snr', 'isi_violation', 'amplitude_cutoff']\n",
    "metrics = analyzer_kilo4.compute(\"quality_metrics\").get_data()\n",
    "metrics"
   ]
  },
  {
   "cell_type": "code",
   "execution_count": null,
   "id": "64fd5633-cd7a-48a5-9191-39bed9141c44",
   "metadata": {},
   "outputs": [],
   "source": [
    "amplitude_cutoff_thresh = 0.1\n",
    "isi_violations_ratio_thresh = 1\n",
    "presence_ratio_thresh = 0.9\n",
    "our_query = f\"(amplitude_cutoff < {amplitude_cutoff_thresh}) & (isi_violations_ratio < {isi_violations_ratio_thresh}) & (presence_ratio > {presence_ratio_thresh})\"\n",
    "print(our_query)"
   ]
  },
  {
   "cell_type": "code",
   "execution_count": null,
   "id": "4eef7475-2cb2-4b5b-be16-2be4350cd248",
   "metadata": {},
   "outputs": [],
   "source": [
    "keep_units = metrics.query(our_query)\n",
    "keep_unit_ids = keep_units.index.values\n",
    "keep_unit_ids"
   ]
  },
  {
   "cell_type": "code",
   "execution_count": null,
   "id": "e1f685db-5b43-4837-a761-198dd2a5f244",
   "metadata": {},
   "outputs": [],
   "source": [
    "analyzer_clean = analyzer_kilo4.select_units(keep_unit_ids, folder=rf\"{DATA_DIR}\\{recording_date}_out\\analyzer_clean\", format='binary_folder')"
   ]
  },
  {
   "cell_type": "code",
   "execution_count": null,
   "id": "e4925d53-cd1f-4739-a4f4-17be4d63def8",
   "metadata": {},
   "outputs": [],
   "source": [
    "# export spike sorting report to a folder\n",
    "sexp.export_report(analyzer_clean, rf\"{DATA_DIR}\\{recording_date}_out\\report\", format='png')"
   ]
  },
  {
   "cell_type": "code",
   "execution_count": null,
   "id": "8fd7537e-0145-4ca9-b54e-25134c7cc37d",
   "metadata": {},
   "outputs": [],
   "source": [
    "# load in existing sorting analyzer_clean if already created and saved\n",
    "# analyzer_clean = si.load_sorting_analyzer(rf\"{DATA_DIR}\\{recording_date}_out\\analyzer_clean\")\n",
    "# analyzer_clean"
   ]
  },
  {
   "cell_type": "code",
   "execution_count": null,
   "id": "6a190732-aeec-4422-835d-7f1d40c5bd48",
   "metadata": {},
   "outputs": [],
   "source": [
    "# # load in existing sorting analyzer if already created and saved\n",
    "# analyzer_kilo4 = si.load_sorting_analyzer(rf\"{DATA_DIR}\\{recording_date}_out\\analyzer_kilo4_binary\", load_extensions=True)\n",
    "# analyzer_kilo4"
   ]
  },
  {
   "cell_type": "markdown",
   "id": "e0c11102-cbab-4718-bf60-c37ab17a9edd",
   "metadata": {},
   "source": [
    "## 9. Export to Phy (for manual curation)"
   ]
  },
  {
   "cell_type": "code",
   "execution_count": null,
   "id": "08d6233f-7077-4c7a-ad1f-87c25b582ed2",
   "metadata": {},
   "outputs": [],
   "source": [
    "# alternatively, export data locally to Phy\n",
    "# Phy --> GUI for manual curation of spike sorting output\n",
    "sexp.export_to_phy(analyzer_kilo4, rf\"{DATA_DIR}\\{recording_date}_out\\phy_folder\", verbose=True)"
   ]
  },
  {
   "cell_type": "code",
   "execution_count": null,
   "id": "1404e246-d441-4ce4-b4c6-b3109616a2e1",
   "metadata": {},
   "outputs": [],
   "source": [
    "# after curating with Phy, reload the \"curated sorting\" \n",
    "# exclude units labeled as \"noise\"\n",
    "sorting_curated_phy = se.read_phy(rf\"{DATA_DIR}\\{recording_date}_out\\phy_folder\", exclude_cluster_groups=[\"noise\"])\n",
    "print(sorting_curated_phy)"
   ]
  },
  {
   "cell_type": "code",
   "execution_count": null,
   "id": "78261cdd-fe83-42e3-b90b-e6a1e74c83cd",
   "metadata": {},
   "outputs": [],
   "source": [
    "# after curating with Phy, reload the \"curated sorting\" \n",
    "# exclude units labeled as \"noise\" and \"mua\"\n",
    "sorting_curated_phy = se.read_phy(rf\"{DATA_DIR}\\{recording_date}_out\\phy_folder\", exclude_cluster_groups=[\"noise\", \"mua\"])\n",
    "print(sorting_curated_phy)"
   ]
  },
  {
   "cell_type": "code",
   "execution_count": null,
   "id": "708ba77b-0b16-477d-9e43-8987fbc1457d",
   "metadata": {},
   "outputs": [],
   "source": []
  }
 ],
 "metadata": {
  "kernelspec": {
   "display_name": "Python 3 (ipykernel)",
   "language": "python",
   "name": "python3"
  },
  "language_info": {
   "codemirror_mode": {
    "name": "ipython",
    "version": 3
   },
   "file_extension": ".py",
   "mimetype": "text/x-python",
   "name": "python",
   "nbconvert_exporter": "python",
   "pygments_lexer": "ipython3",
   "version": "3.11.5"
  }
 },
 "nbformat": 4,
 "nbformat_minor": 5
}
