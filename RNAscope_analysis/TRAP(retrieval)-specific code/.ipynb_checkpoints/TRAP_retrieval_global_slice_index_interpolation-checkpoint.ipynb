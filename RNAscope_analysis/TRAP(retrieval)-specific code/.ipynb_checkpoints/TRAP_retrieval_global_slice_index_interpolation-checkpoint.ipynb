{
 "cells": [
  {
   "cell_type": "code",
   "execution_count": 3,
   "id": "a3e7ee0d",
   "metadata": {},
   "outputs": [
    {
     "name": "stdout",
     "output_type": "stream",
     "text": [
      "Global index 0: interpolated brain1 value ≈ 62.00\n",
      "Global index 1: interpolated brain1 value ≈ 63.25\n",
      "Global index 2: interpolated brain1 value ≈ 64.50\n",
      "Global index 3: interpolated brain1 value ≈ 65.75\n",
      "Global index 4: interpolated brain1 value ≈ 67.00\n",
      "Global index 5: interpolated brain1 value ≈ 68.25\n",
      "Global index 6: interpolated brain1 value ≈ 69.50\n",
      "Global index 7: interpolated brain1 value ≈ 70.75\n",
      "Global index 8: interpolated brain1 value ≈ 72.00\n",
      "as whole numbers: \n",
      "Global index 0: interpolated brain1 value ≈ 62\n",
      "Global index 1: interpolated brain1 value ≈ 63\n",
      "Global index 2: interpolated brain1 value ≈ 64\n",
      "Global index 3: interpolated brain1 value ≈ 66\n",
      "Global index 4: interpolated brain1 value ≈ 67\n",
      "Global index 5: interpolated brain1 value ≈ 68\n",
      "Global index 6: interpolated brain1 value ≈ 70\n",
      "Global index 7: interpolated brain1 value ≈ 71\n",
      "Global index 8: interpolated brain1 value ≈ 72\n"
     ]
    }
   ],
   "source": [
    "import numpy as np\n",
    "\n",
    "# Brain 1 slice indices (original)\n",
    "brain1_indices = np.arange(62, 73)  # 0 to 12\n",
    "\n",
    "# Define global positions corresponding to brain 1 slices\n",
    "# You want brain1[0] → global index 2\n",
    "# and brain1[12] → global index 17\n",
    "\n",
    "# Linearly map brain1 indices to global indices\n",
    "global_start = 0\n",
    "global_end = 8\n",
    "global_positions = np.linspace(global_start, global_end, len(brain1_indices))\n",
    "\n",
    "# Now, interpolate brain 1 values (or data) at every integer global index\n",
    "global_indices = np.arange(global_start, global_end + 1)  # [2, 3, ..., 17]\n",
    "\n",
    "# For example, assume brain1_data = [some values for each of the 13 slices]\n",
    "# This could be slice thickness, signal, position, etc.\n",
    "# For demonstration, we'll just use brain1_indices as dummy values\n",
    "brain1_data = brain1_indices\n",
    "\n",
    "# Interpolate brain1 data at each integer global index\n",
    "interpolated_data = np.interp(global_indices, global_positions, brain1_data)\n",
    "\n",
    "# Result\n",
    "for gi, val in zip(global_indices, interpolated_data):\n",
    "    print(f\"Global index {gi}: interpolated brain1 value ≈ {val:.2f}\")\n",
    "print('as whole numbers: ')\n",
    "for gi, val in zip(global_indices, interpolated_data):\n",
    "    print(f\"Global index {gi}: interpolated brain1 value ≈ {round(val)}\")\n",
    "    "
   ]
  },
  {
   "cell_type": "code",
   "execution_count": 10,
   "id": "e72fe9ae",
   "metadata": {},
   "outputs": [
    {
     "name": "stdout",
     "output_type": "stream",
     "text": [
      "Brain1 index 2: assigned global index ≈ 0.00\n",
      "Brain1 index 3: assigned global index ≈ 1.07\n",
      "Brain1 index 4: assigned global index ≈ 2.13\n",
      "Brain1 index 5: assigned global index ≈ 3.20\n",
      "Brain1 index 6: assigned global index ≈ 4.27\n",
      "Brain1 index 7: assigned global index ≈ 5.33\n",
      "Brain1 index 8: assigned global index ≈ 6.40\n",
      "Brain1 index 9: assigned global index ≈ 7.47\n",
      "Brain1 index 10: assigned global index ≈ 8.53\n",
      "Brain1 index 11: assigned global index ≈ 9.60\n",
      "Brain1 index 12: assigned global index ≈ 10.67\n",
      "Brain1 index 13: assigned global index ≈ 11.73\n",
      "Brain1 index 14: assigned global index ≈ 12.80\n",
      "Brain1 index 15: assigned global index ≈ 13.87\n",
      "Brain1 index 16: assigned global index ≈ 14.93\n",
      "Brain1 index 17: assigned global index ≈ 16.00\n",
      "as whole numbers: \n",
      "Brain1 index 2: assigned global index ≈ 0\n",
      "Brain1 index 3: assigned global index ≈ 1\n",
      "Brain1 index 4: assigned global index ≈ 2\n",
      "Brain1 index 5: assigned global index ≈ 3\n",
      "Brain1 index 6: assigned global index ≈ 4\n",
      "Brain1 index 7: assigned global index ≈ 5\n",
      "Brain1 index 8: assigned global index ≈ 6\n",
      "Brain1 index 9: assigned global index ≈ 7\n",
      "Brain1 index 10: assigned global index ≈ 9\n",
      "Brain1 index 11: assigned global index ≈ 10\n",
      "Brain1 index 12: assigned global index ≈ 11\n",
      "Brain1 index 13: assigned global index ≈ 12\n",
      "Brain1 index 14: assigned global index ≈ 13\n",
      "Brain1 index 15: assigned global index ≈ 14\n",
      "Brain1 index 16: assigned global index ≈ 15\n",
      "Brain1 index 17: assigned global index ≈ 16\n"
     ]
    }
   ],
   "source": [
    "# import numpy as np\n",
    "\n",
    "# # Brain 1 has 13 slices: indices 0 to 12\n",
    "# brain1_indices = np.arange(2, 18)\n",
    "\n",
    "# # Desired global index range: 2 to 17\n",
    "# global_start = 0\n",
    "# global_end = 16\n",
    "\n",
    "# # Interpolate global indices for each brain1 slice\n",
    "# assigned_global_indices = np.linspace(global_start, global_end, len(brain1_indices))\n",
    "\n",
    "# # Result\n",
    "# for b1_idx, g_idx in zip(brain1_indices, assigned_global_indices):\n",
    "#     print(f\"Brain1 index {b1_idx}: assigned global index ≈ {g_idx:.2f}\")\n",
    "    \n",
    "# print('as whole numbers: ')\n",
    "# for b1_idx, g_idx in zip(brain1_indices, assigned_global_indices):\n",
    "#     print(f\"Brain1 index {b1_idx}: assigned global index ≈ {round(g_idx)}\")\n",
    "    "
   ]
  }
 ],
 "metadata": {
  "kernelspec": {
   "display_name": "Python 3 (ipykernel)",
   "language": "python",
   "name": "python3"
  },
  "language_info": {
   "codemirror_mode": {
    "name": "ipython",
    "version": 3
   },
   "file_extension": ".py",
   "mimetype": "text/x-python",
   "name": "python",
   "nbconvert_exporter": "python",
   "pygments_lexer": "ipython3",
   "version": "3.11.5"
  }
 },
 "nbformat": 4,
 "nbformat_minor": 5
}
